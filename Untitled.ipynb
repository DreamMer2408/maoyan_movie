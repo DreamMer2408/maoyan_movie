{
 "cells": [
  {
   "cell_type": "markdown",
   "metadata": {},
   "source": [
    "# 正则表达式基本用法"
   ]
  },
  {
   "cell_type": "markdown",
   "metadata": {},
   "source": [
    "先导入正则表达式所用的库：import re"
   ]
  },
  {
   "cell_type": "code",
   "execution_count": 2,
   "metadata": {},
   "outputs": [],
   "source": [
    "import re"
   ]
  },
  {
   "cell_type": "markdown",
   "metadata": {},
   "source": [
    "## re.match"
   ]
  },
  {
   "cell_type": "markdown",
   "metadata": {},
   "source": [
    "re.match 尝试从字母的起始位置匹配一个模式，如果不是起始位置，match()就返回None"
   ]
  },
  {
   "cell_type": "markdown",
   "metadata": {},
   "source": [
    "re.match(patten,string,flags=0)"
   ]
  },
  {
   "cell_type": "markdown",
   "metadata": {},
   "source": [
    "### 最常规的匹配"
   ]
  },
  {
   "cell_type": "code",
   "execution_count": 3,
   "metadata": {},
   "outputs": [
    {
     "name": "stdout",
     "output_type": "stream",
     "text": [
      "<_sre.SRE_Match object; span=(0, 40), match='Hello 1234568 World_This is a Regex Demo'>\n",
      "Hello 1234568 World_This is a Regex Demo\n",
      "(0, 40)\n"
     ]
    }
   ],
   "source": [
    "content='Hello 1234568 World_This is a Regex Demo'\n",
    "result=re.match('^Hello\\s\\d{7}\\s\\w{10}.*Demo$',content)\n",
    "print(result)\n",
    "print(result.group())\n",
    "print(result.span())"
   ]
  },
  {
   "cell_type": "markdown",
   "metadata": {},
   "source": [
    "### 泛匹配"
   ]
  },
  {
   "cell_type": "code",
   "execution_count": 4,
   "metadata": {},
   "outputs": [
    {
     "name": "stdout",
     "output_type": "stream",
     "text": [
      "<_sre.SRE_Match object; span=(0, 40), match='Hello 1234568 World_This is a Regex Demo'>\n",
      "Hello 1234568 World_This is a Regex Demo\n",
      "(0, 40)\n"
     ]
    }
   ],
   "source": [
    "content='Hello 1234568 World_This is a Regex Demo'\n",
    "result=re.match('^Hell.*Demo$',content)\n",
    "print(result)\n",
    "print(result.group())\n",
    "print(result.span())"
   ]
  },
  {
   "cell_type": "markdown",
   "metadata": {},
   "source": [
    "### 匹配目标"
   ]
  },
  {
   "cell_type": "code",
   "execution_count": 5,
   "metadata": {},
   "outputs": [
    {
     "name": "stdout",
     "output_type": "stream",
     "text": [
      "<_sre.SRE_Match object; span=(0, 40), match='Hello 1234568 World_This is a Regex Demo'>\n",
      "1234568\n",
      "(0, 40)\n"
     ]
    }
   ],
   "source": [
    "content='Hello 1234568 World_This is a Regex Demo'\n",
    "result=re.match('^Hello\\s(\\d+)\\sWorld.*Demo$',content)\n",
    "print(result)\n",
    "print(result.group(1))\n",
    "print(result.span())"
   ]
  },
  {
   "cell_type": "markdown",
   "metadata": {},
   "source": [
    "### 贪婪匹配"
   ]
  },
  {
   "cell_type": "code",
   "execution_count": 6,
   "metadata": {},
   "outputs": [
    {
     "name": "stdout",
     "output_type": "stream",
     "text": [
      "<_sre.SRE_Match object; span=(0, 40), match='Hello 1234568 World_This is a Regex Demo'>\n",
      "8\n",
      "(0, 40)\n"
     ]
    }
   ],
   "source": [
    "content='Hello 1234568 World_This is a Regex Demo'\n",
    "result=re.match('^H.*(\\d+).*Demo$',content)\n",
    "print(result)\n",
    "print(result.group(1))\n",
    "print(result.span())"
   ]
  },
  {
   "cell_type": "markdown",
   "metadata": {},
   "source": [
    "贪婪匹配(.* )会尽可能多的进行匹配，+表示至少匹配到一个，所以只输出一个数字，就是末尾的数字"
   ]
  },
  {
   "cell_type": "markdown",
   "metadata": {},
   "source": [
    "### 非贪婪匹配"
   ]
  },
  {
   "cell_type": "code",
   "execution_count": 7,
   "metadata": {},
   "outputs": [
    {
     "name": "stdout",
     "output_type": "stream",
     "text": [
      "<_sre.SRE_Match object; span=(0, 40), match='Hello 1234568 World_This is a Regex Demo'>\n",
      "1234568\n",
      "(0, 40)\n"
     ]
    }
   ],
   "source": [
    "content='Hello 1234568 World_This is a Regex Demo'\n",
    "result=re.match('^H.*?(\\d+).*Demo$',content)\n",
    "print(result)\n",
    "print(result.group(1))\n",
    "print(result.span())"
   ]
  },
  {
   "cell_type": "markdown",
   "metadata": {},
   "source": [
    "非贪婪匹配(.* ?)尽可能少的匹配"
   ]
  },
  {
   "cell_type": "markdown",
   "metadata": {},
   "source": [
    "### 匹配模式"
   ]
  },
  {
   "cell_type": "code",
   "execution_count": 8,
   "metadata": {},
   "outputs": [
    {
     "name": "stdout",
     "output_type": "stream",
     "text": [
      "<_sre.SRE_Match object; span=(0, 41), match='Hello 1234568 World_T\\nhis is a Regex Demo'>\n",
      "Hello 1234568 World_T\n",
      "his is a Regex Demo\n",
      "(0, 41)\n"
     ]
    }
   ],
   "source": [
    "content='''Hello 1234568 World_T\n",
    "his is a Regex Demo'''\n",
    "result=re.match('^Hello.*Demo$',content,re.S)\n",
    "print(result)\n",
    "print(result.group())\n",
    "print(result.span())"
   ]
  },
  {
   "cell_type": "markdown",
   "metadata": {},
   "source": [
    "### 转义"
   ]
  },
  {
   "cell_type": "code",
   "execution_count": 9,
   "metadata": {},
   "outputs": [
    {
     "name": "stdout",
     "output_type": "stream",
     "text": [
      "<_sre.SRE_Match object; span=(0, 14), match='price is $5.00'>\n",
      "price is $5.00\n",
      "(0, 14)\n"
     ]
    }
   ],
   "source": [
    "content='price is $5.00'\n",
    "result=re.match('price is \\$5\\.00$',content)\n",
    "print(result)\n",
    "print(result.group())\n",
    "print(result.span())"
   ]
  },
  {
   "cell_type": "markdown",
   "metadata": {},
   "source": [
    "总结，尽量使用泛匹配，使用括号得到匹配模式，尽量使用贪婪模式，有换行符就用re.S"
   ]
  },
  {
   "cell_type": "markdown",
   "metadata": {},
   "source": [
    "## re.search"
   ]
  },
  {
   "cell_type": "markdown",
   "metadata": {},
   "source": [
    "re.search 扫描整个字符串并且返回第一个成功匹配"
   ]
  },
  {
   "cell_type": "code",
   "execution_count": 10,
   "metadata": {},
   "outputs": [
    {
     "name": "stdout",
     "output_type": "stream",
     "text": [
      "None\n"
     ]
    },
    {
     "ename": "AttributeError",
     "evalue": "'NoneType' object has no attribute 'group'",
     "traceback": [
      "\u001b[0;31m---------------------------------------------------------------------------\u001b[0m",
      "\u001b[0;31mAttributeError\u001b[0m                            Traceback (most recent call last)",
      "\u001b[0;32m<ipython-input-10-ba349acd7283>\u001b[0m in \u001b[0;36m<module>\u001b[0;34m()\u001b[0m\n\u001b[1;32m      2\u001b[0m \u001b[0mresult\u001b[0m\u001b[0;34m=\u001b[0m\u001b[0mre\u001b[0m\u001b[0;34m.\u001b[0m\u001b[0mmatch\u001b[0m\u001b[0;34m(\u001b[0m\u001b[0;34m'My.*(\\d+).*child$'\u001b[0m\u001b[0;34m,\u001b[0m\u001b[0mcontent\u001b[0m\u001b[0;34m)\u001b[0m\u001b[0;34m\u001b[0m\u001b[0m\n\u001b[1;32m      3\u001b[0m \u001b[0mprint\u001b[0m\u001b[0;34m(\u001b[0m\u001b[0mresult\u001b[0m\u001b[0;34m)\u001b[0m\u001b[0;34m\u001b[0m\u001b[0m\n\u001b[0;32m----> 4\u001b[0;31m \u001b[0mprint\u001b[0m\u001b[0;34m(\u001b[0m\u001b[0mresult\u001b[0m\u001b[0;34m.\u001b[0m\u001b[0mgroup\u001b[0m\u001b[0;34m(\u001b[0m\u001b[0;34m)\u001b[0m\u001b[0;34m)\u001b[0m\u001b[0;34m\u001b[0m\u001b[0m\n\u001b[0m",
      "\u001b[0;31mAttributeError\u001b[0m: 'NoneType' object has no attribute 'group'"
     ],
     "output_type": "error"
    }
   ],
   "source": [
    "content='Kobe Bryant is My hero，his number is 24 and 8.He has no any boy child'\n",
    "result=re.match('My.*(\\d+).*child$',content)\n",
    "print(result)\n",
    "print(result.group())"
   ]
  },
  {
   "cell_type": "code",
   "execution_count": 11,
   "metadata": {},
   "outputs": [
    {
     "name": "stdout",
     "output_type": "stream",
     "text": [
      "<_sre.SRE_Match object; span=(15, 69), match='My hero，his number is 24 and 8.He has no any boy >\n",
      "8\n"
     ]
    }
   ],
   "source": [
    "content='Kobe Bryant is My hero，his number is 24 and 8.He has no any boy child'\n",
    "result=re.search('My.*(\\d+).*?child$',content)\n",
    "print(result)\n",
    "print(result.group(1))"
   ]
  },
  {
   "cell_type": "markdown",
   "metadata": {},
   "source": [
    "总结，为了匹配方便，能用search就不用match"
   ]
  },
  {
   "cell_type": "markdown",
   "metadata": {},
   "source": [
    "### 匹配演练"
   ]
  },
  {
   "cell_type": "markdown",
   "metadata": {},
   "source": [
    "分别匹配出电影名，演员，上映时间，评分"
   ]
  },
  {
   "cell_type": "code",
   "execution_count": 12,
   "metadata": {},
   "outputs": [
    {
     "name": "stdout",
     "output_type": "stream",
     "text": [
      "<_sre.SRE_Match object; span=(121, 233), match='<p class=\"name\"><a href=\"/films/1203\" title=\"霸王别姬>\n",
      "霸王别姬\n"
     ]
    }
   ],
   "source": [
    "html='''<div class=\"board-item-main\">\n",
    "      <div class=\"board-item-content\">\n",
    "              <div class=\"movie-item-info\">\n",
    "        <p class=\"name\"><a href=\"/films/1203\" title=\"霸王别姬\" data-act=\"boarditem-click\" data-val=\"{movieId:1203}\">霸王别姬</a></p>\n",
    "        <p class=\"star\">\n",
    "                主演：张国荣,张丰毅,巩俐\n",
    "        </p>\n",
    "<p class=\"releasetime\">上映时间：1993-01-01(中国香港)</p>    </div>\n",
    "    <div class=\"movie-item-number score-num\">\n",
    "<p class=\"score\"><i class=\"integer\">9.</i><i class=\"fraction\">6</i></p>        \n",
    "    </div>\n",
    "'''\n",
    "result=re.search('<p.*?name.*?\\}\\\">(.*?)</a>',html)\n",
    "print(result)\n",
    "print(result.group(1))"
   ]
  },
  {
   "cell_type": "code",
   "execution_count": 13,
   "metadata": {},
   "outputs": [
    {
     "name": "stdout",
     "output_type": "stream",
     "text": [
      "<_sre.SRE_Match object; span=(121, 305), match='<p class=\"name\"><a href=\"/films/1203\" title=\"霸王别姬>\n",
      "主演：张国荣,张丰毅,巩俐\n"
     ]
    }
   ],
   "source": [
    "html='''<div class=\"board-item-main\">\n",
    "      <div class=\"board-item-content\">\n",
    "              <div class=\"movie-item-info\">\n",
    "        <p class=\"name\"><a href=\"/films/1203\" title=\"霸王别姬\" data-act=\"boarditem-click\" data-val=\"{movieId:1203}\">霸王别姬</a></p>\n",
    "        <p class=\"star\">\n",
    "                主演：张国荣,张丰毅,巩俐\n",
    "        </p>\n",
    "<p class=\"releasetime\">上映时间：1993-01-01(中国香港)</p>    </div>\n",
    "    <div class=\"movie-item-number score-num\">\n",
    "<p class=\"score\"><i class=\"integer\">9.</i><i class=\"fraction\">6</i></p>        \n",
    "    </div>\n",
    "'''\n",
    "result=re.search('<p.*?star\">\\s+(.*?)\\s+</p>',html,re.S)\n",
    "print(result)\n",
    "print(result.group(1))"
   ]
  },
  {
   "cell_type": "code",
   "execution_count": 14,
   "metadata": {},
   "outputs": [
    {
     "name": "stdout",
     "output_type": "stream",
     "text": [
      "<_sre.SRE_Match object; span=(306, 354), match='<p class=\"releasetime\">上映时间：1993-01-01(中国香港)</p>'>\n",
      "上映时间：1993-01-01(中国香港)\n"
     ]
    }
   ],
   "source": [
    "html='''<div class=\"board-item-main\">\n",
    "      <div class=\"board-item-content\">\n",
    "              <div class=\"movie-item-info\">\n",
    "        <p class=\"name\"><a href=\"/films/1203\" title=\"霸王别姬\" data-act=\"boarditem-click\" data-val=\"{movieId:1203}\">霸王别姬</a></p>\n",
    "        <p class=\"star\">\n",
    "                主演：张国荣,张丰毅,巩俐\n",
    "        </p>\n",
    "<p class=\"releasetime\">上映时间：1993-01-01(中国香港)</p>    </div>\n",
    "    <div class=\"movie-item-number score-num\">\n",
    "<p class=\"score\"><i class=\"integer\">9.</i><i class=\"fraction\">6</i></p>        \n",
    "    </div>\n",
    "'''\n",
    "result=re.search('<p.*?time\">(.*?)</p>',html)\n",
    "print(result)\n",
    "print(result.group(1))"
   ]
  },
  {
   "cell_type": "code",
   "execution_count": 15,
   "metadata": {},
   "outputs": [
    {
     "name": "stdout",
     "output_type": "stream",
     "text": [
      "<_sre.SRE_Match object; span=(411, 474), match='<p class=\"score\"><i class=\"integer\">9.</i><i clas>\n",
      "<class 'str'>\n",
      "9.6\n"
     ]
    }
   ],
   "source": [
    "html='''<div class=\"board-item-main\">\n",
    "      <div class=\"board-item-content\">\n",
    "              <div class=\"movie-item-info\">\n",
    "        <p class=\"name\"><a href=\"/films/1203\" title=\"霸王别姬\" data-act=\"boarditem-click\" data-val=\"{movieId:1203}\">霸王别姬</a></p>\n",
    "        <p class=\"star\">\n",
    "                主演：张国荣,张丰毅,巩俐\n",
    "        </p>\n",
    "<p class=\"releasetime\">上映时间：1993-01-01(中国香港)</p>    </div>\n",
    "    <div class=\"movie-item-number score-num\">\n",
    "<p class=\"score\"><i class=\"integer\">9.</i><i class=\"fraction\">6</i></p>        \n",
    "    </div>\n",
    "'''\n",
    "result=re.search('<p.*?score.*\">(\\d\\.).*?\">(\\d)',html)\n",
    "print(result)\n",
    "print(type(result.group(1)))\n",
    "print(result.group(1)+result.group(2))"
   ]
  },
  {
   "cell_type": "markdown",
   "metadata": {},
   "source": [
    "## re.findall"
   ]
  },
  {
   "cell_type": "markdown",
   "metadata": {},
   "source": [
    "搜索字符串，以列表形式返回全部匹配的字串"
   ]
  },
  {
   "cell_type": "code",
   "execution_count": 26,
   "metadata": {},
   "outputs": [
    {
     "name": "stdout",
     "output_type": "stream",
     "text": [
      "[('1', '霸王别姬', '主演：张国荣,张丰毅,巩俐', '上映时间：1993-01-01(中国香港)', '9.', '6'), ('2', '肖申克的救赎', '主演：蒂姆·罗宾斯,摩根·弗里曼,鲍勃·冈顿', '上映时间：1994-10-14(美国)', '9.', '5'), ('3', '罗马假日', '主演：格利高利·派克,奥黛丽·赫本,埃迪·艾伯特', '上映时间：1953-09-02(美国)', '9.', '1'), ('4', '这个杀手不太冷', '主演：让·雷诺,加里·奥德曼,娜塔莉·波特曼', '上映时间：1994-09-14(法国)', '9.', '5'), ('5', '教父', '主演：马龙·白兰度,阿尔·帕西诺,詹姆斯·凯恩', '上映时间：1972-03-24(美国)', '9.', '3')]\n",
      "<class 'list'>\n",
      "('1', '霸王别姬', '主演：张国荣,张丰毅,巩俐', '上映时间：1993-01-01(中国香港)', '9.', '6')\n",
      "('2', '肖申克的救赎', '主演：蒂姆·罗宾斯,摩根·弗里曼,鲍勃·冈顿', '上映时间：1994-10-14(美国)', '9.', '5')\n",
      "('3', '罗马假日', '主演：格利高利·派克,奥黛丽·赫本,埃迪·艾伯特', '上映时间：1953-09-02(美国)', '9.', '1')\n",
      "('4', '这个杀手不太冷', '主演：让·雷诺,加里·奥德曼,娜塔莉·波特曼', '上映时间：1994-09-14(法国)', '9.', '5')\n",
      "('5', '教父', '主演：马龙·白兰度,阿尔·帕西诺,詹姆斯·凯恩', '上映时间：1972-03-24(美国)', '9.', '3')\n"
     ]
    }
   ],
   "source": [
    "html='''\n",
    "<dd>\n",
    "                        <i class=\"board-index board-index-1\">1</i>\n",
    "    <a href=\"/films/1203\" title=\"霸王别姬\" class=\"image-link\" data-act=\"boarditem-click\" data-val=\"{movieId:1203}\">\n",
    "      <img src=\"//ms0.meituan.net/mywww/image/loading_2.e3d934bf.png\" alt=\"\" class=\"poster-default\" />\n",
    "      <img data-src=\"http://p1.meituan.net/movie/20803f59291c47e1e116c11963ce019e68711.jpg@160w_220h_1e_1c\" alt=\"霸王别姬\" class=\"board-img\" />\n",
    "    </a>\n",
    "    <div class=\"board-item-main\">\n",
    "      <div class=\"board-item-content\">\n",
    "              <div class=\"movie-item-info\">\n",
    "        <p class=\"name\"><a href=\"/films/1203\" title=\"霸王别姬\" data-act=\"boarditem-click\" data-val=\"{movieId:1203}\">霸王别姬</a></p>\n",
    "        <p class=\"star\">\n",
    "                主演：张国荣,张丰毅,巩俐\n",
    "        </p>\n",
    "<p class=\"releasetime\">上映时间：1993-01-01(中国香港)</p>    </div>\n",
    "    <div class=\"movie-item-number score-num\">\n",
    "<p class=\"score\"><i class=\"integer\">9.</i><i class=\"fraction\">6</i></p>        \n",
    "    </div>\n",
    "\n",
    "      </div>\n",
    "    </div>\n",
    "\n",
    "                </dd>\n",
    "                <dd>\n",
    "                        <i class=\"board-index board-index-2\">2</i>\n",
    "    <a href=\"/films/1297\" title=\"肖申克的救赎\" class=\"image-link\" data-act=\"boarditem-click\" data-val=\"{movieId:1297}\">\n",
    "      <img src=\"//ms0.meituan.net/mywww/image/loading_2.e3d934bf.png\" alt=\"\" class=\"poster-default\" />\n",
    "      <img data-src=\"http://p0.meituan.net/movie/__40191813__4767047.jpg@160w_220h_1e_1c\" alt=\"肖申克的救赎\" class=\"board-img\" />\n",
    "    </a>\n",
    "    <div class=\"board-item-main\">\n",
    "      <div class=\"board-item-content\">\n",
    "              <div class=\"movie-item-info\">\n",
    "        <p class=\"name\"><a href=\"/films/1297\" title=\"肖申克的救赎\" data-act=\"boarditem-click\" data-val=\"{movieId:1297}\">肖申克的救赎</a></p>\n",
    "        <p class=\"star\">\n",
    "                主演：蒂姆·罗宾斯,摩根·弗里曼,鲍勃·冈顿\n",
    "        </p>\n",
    "<p class=\"releasetime\">上映时间：1994-10-14(美国)</p>    </div>\n",
    "    <div class=\"movie-item-number score-num\">\n",
    "<p class=\"score\"><i class=\"integer\">9.</i><i class=\"fraction\">5</i></p>        \n",
    "    </div>\n",
    "\n",
    "      </div>\n",
    "    </div>\n",
    "\n",
    "                </dd>\n",
    "                <dd>\n",
    "                        <i class=\"board-index board-index-3\">3</i>\n",
    "    <a href=\"/films/2641\" title=\"罗马假日\" class=\"image-link\" data-act=\"boarditem-click\" data-val=\"{movieId:2641}\">\n",
    "      <img src=\"//ms0.meituan.net/mywww/image/loading_2.e3d934bf.png\" alt=\"\" class=\"poster-default\" />\n",
    "      <img data-src=\"http://p0.meituan.net/movie/23/6009725.jpg@160w_220h_1e_1c\" alt=\"罗马假日\" class=\"board-img\" />\n",
    "    </a>\n",
    "    <div class=\"board-item-main\">\n",
    "      <div class=\"board-item-content\">\n",
    "              <div class=\"movie-item-info\">\n",
    "        <p class=\"name\"><a href=\"/films/2641\" title=\"罗马假日\" data-act=\"boarditem-click\" data-val=\"{movieId:2641}\">罗马假日</a></p>\n",
    "        <p class=\"star\">\n",
    "                主演：格利高利·派克,奥黛丽·赫本,埃迪·艾伯特\n",
    "        </p>\n",
    "<p class=\"releasetime\">上映时间：1953-09-02(美国)</p>    </div>\n",
    "    <div class=\"movie-item-number score-num\">\n",
    "<p class=\"score\"><i class=\"integer\">9.</i><i class=\"fraction\">1</i></p>        \n",
    "    </div>\n",
    "\n",
    "      </div>\n",
    "    </div>\n",
    "\n",
    "                </dd>\n",
    "                <dd>\n",
    "                        <i class=\"board-index board-index-4\">4</i>\n",
    "    <a href=\"/films/4055\" title=\"这个杀手不太冷\" class=\"image-link\" data-act=\"boarditem-click\" data-val=\"{movieId:4055}\">\n",
    "      <img src=\"//ms0.meituan.net/mywww/image/loading_2.e3d934bf.png\" alt=\"\" class=\"poster-default\" />\n",
    "      <img data-src=\"http://p0.meituan.net/movie/fc9d78dd2ce84d20e53b6d1ae2eea4fb1515304.jpg@160w_220h_1e_1c\" alt=\"这个杀手不太冷\" class=\"board-img\" />\n",
    "    </a>\n",
    "    <div class=\"board-item-main\">\n",
    "      <div class=\"board-item-content\">\n",
    "              <div class=\"movie-item-info\">\n",
    "        <p class=\"name\"><a href=\"/films/4055\" title=\"这个杀手不太冷\" data-act=\"boarditem-click\" data-val=\"{movieId:4055}\">这个杀手不太冷</a></p>\n",
    "        <p class=\"star\">\n",
    "                主演：让·雷诺,加里·奥德曼,娜塔莉·波特曼\n",
    "        </p>\n",
    "<p class=\"releasetime\">上映时间：1994-09-14(法国)</p>    </div>\n",
    "    <div class=\"movie-item-number score-num\">\n",
    "<p class=\"score\"><i class=\"integer\">9.</i><i class=\"fraction\">5</i></p>        \n",
    "    </div>\n",
    "\n",
    "      </div>\n",
    "    </div>\n",
    "\n",
    "                </dd>\n",
    "                <dd>\n",
    "                        <i class=\"board-index board-index-5\">5</i>\n",
    "    <a href=\"/films/1247\" title=\"教父\" class=\"image-link\" data-act=\"boarditem-click\" data-val=\"{movieId:1247}\">\n",
    "      <img src=\"//ms0.meituan.net/mywww/image/loading_2.e3d934bf.png\" alt=\"\" class=\"poster-default\" />\n",
    "      <img data-src=\"http://p0.meituan.net/movie/92/8212889.jpg@160w_220h_1e_1c\" alt=\"教父\" class=\"board-img\" />\n",
    "    </a>\n",
    "    <div class=\"board-item-main\">\n",
    "      <div class=\"board-item-content\">\n",
    "              <div class=\"movie-item-info\">\n",
    "        <p class=\"name\"><a href=\"/films/1247\" title=\"教父\" data-act=\"boarditem-click\" data-val=\"{movieId:1247}\">教父</a></p>\n",
    "        <p class=\"star\">\n",
    "                主演：马龙·白兰度,阿尔·帕西诺,詹姆斯·凯恩\n",
    "        </p>\n",
    "<p class=\"releasetime\">上映时间：1972-03-24(美国)</p>    </div>\n",
    "    <div class=\"movie-item-number score-num\">\n",
    "<p class=\"score\"><i class=\"integer\">9.</i><i class=\"fraction\">3</i></p>        \n",
    "    </div>\n",
    "\n",
    "      </div>\n",
    "    </div>\n",
    "\n",
    "                </dd>\n",
    "                <dd>\n",
    "                        <i class=\"board-index board-index-6\">6</i>\n",
    "    <a href=\"/films/267\" title=\"泰坦尼克号\" class=\"image-link\" data-act=\"boarditem-click\" data-val=\"{movieId:267}\">\n",
    "      <img src=\"//ms0.meituan.net/mywww/image/loading_2.e3d934bf.png\" alt=\"\" class=\"poster-default\" />\n",
    "      <img data-src=\"http://p0.meituan.net/movie/11/324629.jpg@160w_220h_1e_1c\" alt=\"泰坦尼克号\" class=\"board-img\" />\n",
    "    </a>\n",
    "    <div class=\"board-item-main\">\n",
    "      <div class=\"board-item-content\">\n",
    "              <div class=\"movie-item-info\">\n",
    "        <p class=\"name\"><a href=\"/films/267\" title=\"泰坦尼克号\" data-act=\"boarditem-click\" data-val=\"{movieId:267}\">泰坦尼克号</a></p>\n",
    "        <p class=\"star\">\n",
    "                主演：莱昂纳多·迪卡普里奥,凯特·温丝莱特,比利·赞恩\n",
    "        </p>\n",
    "<p class=\"releasetime\">上映时间：1998-04-03</p>    </div>\n",
    "    <div class=\"movie-item-number score-num\">\n",
    "<p class=\"score\"><i class=\"integer\">9.</i><i class=\"fraction\">5</i></p>        \n",
    "    </div>'''\n",
    "'.*?name.*\">(.*?).*star\">(.*?).*?time\">(.*?).*?score.*\">(.*?).*?\">(%d)'\n",
    "results=re.findall('<dd>.*?board-index.*?\">(\\d+)</i>.*?name\"><a.*?>(.*?)</a>.*?star\">\\s+(.*?)\\s+</p>.*?time\">(.*?)</p>.*?integer\">(.*?)</i>.*?fraction\">(\\d)</i>.*?</dd>',html,re.S)\n",
    "print(results)\n",
    "print(type(results))\n",
    "for result in results:\n",
    "    print(result)"
   ]
  },
  {
   "cell_type": "markdown",
   "metadata": {},
   "source": [
    "## re.compile"
   ]
  },
  {
   "cell_type": "markdown",
   "metadata": {},
   "source": [
    "将正则字符串编译成正则对象，以便于复用该匹配模式"
   ]
  },
  {
   "cell_type": "code",
   "execution_count": null,
   "metadata": {},
   "outputs": [],
   "source": []
  }
 ],
 "metadata": {
  "kernelspec": {
   "display_name": "Python 3",
   "language": "python",
   "name": "python3"
  },
  "language_info": {
   "codemirror_mode": {
    "name": "ipython",
    "version": 3
   },
   "file_extension": ".py",
   "mimetype": "text/x-python",
   "name": "python",
   "nbconvert_exporter": "python",
   "pygments_lexer": "ipython3",
   "version": "3.6.4"
  }
 },
 "nbformat": 4,
 "nbformat_minor": 2
}
